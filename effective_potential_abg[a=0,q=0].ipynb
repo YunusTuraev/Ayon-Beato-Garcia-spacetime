{
 "cells": [
  {
   "cell_type": "code",
   "execution_count": 1,
   "id": "40190c0a",
   "metadata": {},
   "outputs": [],
   "source": [
    "import numpy as np\n",
    "import sympy as sp \n",
    "import matplotlib.pyplot as plt\n",
    "\n",
    "r,θ,ϕ,M,Q,L = sp.symbols('r,θ,ϕ,M,Q,L')"
   ]
  },
  {
   "cell_type": "code",
   "execution_count": 2,
   "id": "300a6205",
   "metadata": {},
   "outputs": [
    {
     "data": {
      "text/latex": [
       "$\\displaystyle \\left(\\frac{L^{2}}{r^{2}} + 1\\right) \\left(- \\frac{2 M r^{2}}{\\left(Q^{2} + r^{2}\\right)^{1.5}} + \\frac{Q^{2} r^{2}}{\\left(Q^{2} + r^{2}\\right)^{2}} + 1\\right)$"
      ],
      "text/plain": [
       "(L**2/r**2 + 1)*(-2*M*r**2/(Q**2 + r**2)**1.5 + Q**2*r**2/(Q**2 + r**2)**2 + 1)"
      ]
     },
     "execution_count": 2,
     "metadata": {},
     "output_type": "execute_result"
    }
   ],
   "source": [
    "Eff = (1-2*M*r**2/((r**2+Q**2)**(3/2))+r**2*Q**2/((r**2+Q**2)**2))*(1+L**2/r**2)\n",
    "Eff"
   ]
  },
  {
   "cell_type": "code",
   "execution_count": 3,
   "id": "3ce2f196",
   "metadata": {},
   "outputs": [
    {
     "name": "stdout",
     "output_type": "stream",
     "text": [
      "(1 + 25/r**2)*(-2*r**2/(r**2)**1.5 + 1)\n",
      "(1 + 25/r**2)*(-2*r**2/(r**2 + 0.09)**1.5 + 0.09*r**2/(r**2 + 0.09)**2 + 1)\n",
      "(1 + 25/r**2)*(-2*r**2/(r**2 + 0.36)**1.5 + 0.36*r**2/(r**2 + 0.36)**2 + 1)\n"
     ]
    }
   ],
   "source": [
    "Eff1 = ((( (1-2*M*r**2/((r**2+Q**2)**(3/2))+r**2*Q**2/((r**2+Q**2)**2))*(1+L**2/r**2) ).subs(M,1)).subs(Q,0)).subs(L,5)\n",
    "Eff2 = ((( (1-2*M*r**2/((r**2+Q**2)**(3/2))+r**2*Q**2/((r**2+Q**2)**2))*(1+L**2/r**2) ).subs(M,1)).subs(Q,0.3)).subs(L,5)\n",
    "Eff3 = ((( (1-2*M*r**2/((r**2+Q**2)**(3/2))+r**2*Q**2/((r**2+Q**2)**2))*(1+L**2/r**2) ).subs(M,1)).subs(Q,0.6)).subs(L,5)\n",
    "\n",
    "print(Eff1)\n",
    "print(Eff2)\n",
    "print(Eff3)"
   ]
  },
  {
   "cell_type": "code",
   "execution_count": 4,
   "id": "791a5004",
   "metadata": {},
   "outputs": [
    {
     "name": "stderr",
     "output_type": "stream",
     "text": [
      "/tmp/ipykernel_45187/2082705575.py:3: RuntimeWarning: divide by zero encountered in true_divide\n",
      "  Eff1 = (1 + 25/r**2)*(-2*r**2/(r**2)**1.5 + 1)\n",
      "/tmp/ipykernel_45187/2082705575.py:3: RuntimeWarning: invalid value encountered in true_divide\n",
      "  Eff1 = (1 + 25/r**2)*(-2*r**2/(r**2)**1.5 + 1)\n",
      "/tmp/ipykernel_45187/2082705575.py:4: RuntimeWarning: divide by zero encountered in true_divide\n",
      "  Eff2 = (1 + 25/r**2)*(-2*r**2/(r**2 + 0.09)**1.5 + 0.09*r**2/(r**2 + 0.09)**2 + 1)\n",
      "/tmp/ipykernel_45187/2082705575.py:5: RuntimeWarning: divide by zero encountered in true_divide\n",
      "  Eff3 = (1 + 25/r**2)*(-2*r**2/(r**2 + 0.36)**1.5 + 0.36*r**2/(r**2 + 0.36)**2 + 1)\n"
     ]
    },
    {
     "data": {
      "image/png": "[encoded data removed]",
      "text/plain": [
       "<Figure size 432x288 with 1 Axes>"
      ]
     },
     "metadata": {
      "needs_background": "light"
     },
     "output_type": "display_data"
    }
   ],
   "source": [
    "r = np.linspace(0,6,1000)\n",
    "\n",
    "Eff1 = (1 + 25/r**2)*(-2*r**2/(r**2)**1.5 + 1)\n",
    "Eff2 = (1 + 25/r**2)*(-2*r**2/(r**2 + 0.09)**1.5 + 0.09*r**2/(r**2 + 0.09)**2 + 1)\n",
    "Eff3 = (1 + 25/r**2)*(-2*r**2/(r**2 + 0.36)**1.5 + 0.36*r**2/(r**2 + 0.36)**2 + 1)\n",
    "\n",
    "\n",
    "\n",
    "#plt.figure(figsize=(8,5), dpi=200)\n",
    "\n",
    "ax = plt.axes()\n",
    "\n",
    "\n",
    "plt.xlabel(\"r/M\")\n",
    "plt.ylabel(\"$E_{eff}$\")\n",
    "plt.grid(True)\n",
    "\n",
    "plt.xlim(0,5)\n",
    "plt.ylim(-5,5)\n",
    "\n",
    "plt.xticks(np.arange(0, 6, step=1))\n",
    "\n",
    "\n",
    "plt.plot(r,Eff1, '--', label=\"Q=0, L=5\", color='red', lw='1.2')\n",
    "plt.plot(r,Eff2, '--', label=\"Q=0.3, L=5\", color='green', lw='1.2')\n",
    "plt.plot(r,Eff3, '--', label=\"Q=0.6, L=5\", color='blue', lw='1.2' )\n",
    "\n",
    "plt.legend(loc=\"upper right\")\n",
    "\n",
    "plt.show()"
   ]
  },
  {
   "cell_type": "code",
   "execution_count": null,
   "id": "94b91c90",
   "metadata": {},
   "outputs": [],
   "source": []
  }
 ],
 "metadata": {
  "kernelspec": {
   "display_name": "Python 3 (ipykernel)",
   "language": "python",
   "name": "python3"
  },
  "language_info": {
   "codemirror_mode": {
    "name": "ipython",
    "version": 3
   },
   "file_extension": ".py",
   "mimetype": "text/x-python",
   "name": "python",
   "nbconvert_exporter": "python",
   "pygments_lexer": "ipython3",
   "version": "3.9.12"
  }
 },
 "nbformat": 4,
 "nbformat_minor": 5
}
